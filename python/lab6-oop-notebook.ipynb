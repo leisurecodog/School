{
 "cells": [
  {
   "cell_type": "markdown",
   "metadata": {},
   "source": [
    "# Lab 6: Decorators + Object-Oriented Python"
   ]
  },
  {
   "cell_type": "markdown",
   "metadata": {},
   "source": [
    "## Overview\n",
    "\n",
    "In today's lecture, which mostly covered rules, definitions, and semantics of OOP, we'll be playing around with actual classes today, writing a fair chunk of code and building several classes to solve a variety of problems.\n",
    "\n",
    "Recall our starting definitions:\n",
    "\n",
    "- An *object* has identity\n",
    "- A *name* is a reference to an object\n",
    "- A *namespace* is an associative mapping from names to objects\n",
    "- An *attribute* is any name following a dot ('.')"
   ]
  },
  {
   "cell_type": "markdown",
   "metadata": {},
   "source": [
    "## Building Decorators\n",
    "\n",
    "Recall that a decorator is a special type of function that accepts a function as an argument and returns a new function which (usually) wraps some of the behavior of the supplied function.\n",
    "\n",
    "Furthermore, recall that the `@decorator` syntax is syntactic sugar.\n",
    "\n",
    "```Python\n",
    "@decorator\n",
    "def fn():\n",
    "    pass\n",
    "```\n",
    "\n",
    "is equivalent to\n",
    "\n",
    "```Python\n",
    "def fn():\n",
    "    pass\n",
    "fn = decorator(fn)\n",
    "```\n"
   ]
  },
  {
   "cell_type": "markdown",
   "metadata": {},
   "source": [
    "### Review\n",
    "\n",
    "In lecture, we implemented the `debug` decorator.\n",
    "\n",
    "```Python\n",
    "def debug(function):\n",
    "    def wrapper(*args, **kwargs):\n",
    "        print(\"Arguments:\", args, kwargs)\n",
    "        return function(*args, **kwargs)\n",
    "    return wrapper\n",
    "```\n",
    "\n",
    "Take a moment, with a partner, and make sure you understand what is happening in the above lines. Why are the arguments to wrapper on the second line `*args` and `**kwargs` instead of something else? What would happen if we didn't `return wrapper` at the end of the function body?"
   ]
  },
  {
   "cell_type": "markdown",
   "metadata": {},
   "source": [
    "### Automatic Caching (20 points)\n",
    "Write a decorator `cache` that will automatically cache any calls to the decorated function. You can assume that all arguments passed to the decorated function will always be hashable types.\n",
    "```Python\n",
    "def cache(function):\n",
    "    pass  # Your implementation here\n",
    "```\n",
    "\n",
    "In pseudocode, to accomplish this you will\n",
    "```\n",
    "take in some function f\n",
    "build a new function g: when called with some arguments...\n",
    "    if we have seen these arguments before:\n",
    "        return a saved result for these arguments\n",
    "    otherwise:\n",
    "        compute and return result of calling f with these arguments and save the result in some data structure\n",
    "return g\n",
    "```\n",
    "\n",
    "For example, you should be able to use this decorator as follows:\n",
    "\n",
    "```Python\n",
    "@cache\n",
    "def fib(n):\n",
    "    return fib(n-1) + fib(n-2) if n > 2 else 1\n",
    "\n",
    "fib(10)  # 55 (takes a moment to execute)\n",
    "fib(10)  # 55 (returns immediately)\n",
    "fib(100) # doesn't take forever\n",
    "fib(400) # doesn't raise RuntimeError\n",
    "```\n",
    "Hint: You can set arbitrary attributes on a function (e.g. `fn._cache`). When you do so, the attribute-value pair also gets inserted into `fn.__dict__`. Take a look for yourself. Are the extra attributes and `.__dict__` always in sync?"
   ]
  },
  {
   "cell_type": "code",
   "execution_count": 51,
   "metadata": {},
   "outputs": [
    {
     "name": "stdout",
     "output_type": "stream",
     "text": [
      "55\n",
      "55\n",
      "354224848179261915075\n",
      "176023680645013966468226945392411250770384383304492191886725992896575345044216019675\n"
     ]
    }
   ],
   "source": [
    "from functools import *\n",
    "\n",
    "def cache(function):\n",
    "    @wraps(function)\n",
    "    @lru_cache(None)\n",
    "    def run(*args, **kwargs):\n",
    "        function(*args,**kwargs)\n",
    "        return function(*args,**kwargs)\n",
    "    return run\n",
    "\n",
    "\n",
    "@cache\n",
    "def fib(n):\n",
    "    return fib(n-1) + fib(n-2) if n > 2 else 1\n",
    "\n",
    "print(fib(10))  # 55 (takes a moment to execute)\n",
    "print(fib(10))  # 55 (returns immediately)\n",
    "print(fib(100)) # doesn't take forever\n",
    "print(fib(400)) # doesn't raise RuntimeError"
   ]
  },
  {
   "cell_type": "markdown",
   "metadata": {},
   "source": [
    "## Courses"
   ]
  },
  {
   "cell_type": "markdown",
   "metadata": {},
   "source": [
    "### Basic Class (5 points)\n",
    "\n",
    "Let’s create a class to represent courses at NUK! A course will have three attributes to start: a department (like `\"CS\"`), a course code (like `\"41\"` or `\"92SI\"`), and a title (like `\"Python\"`).\n",
    "\n",
    "```Python\n",
    "class Course:\n",
    "    def __init__(self, department, code, title):\n",
    "        self.department = department\n",
    "        self.code = code\n",
    "        self.title = title\n",
    "```\n",
    "\n",
    "You can assume that all arguments to this constructor will be strings.\n",
    "\n",
    "Running the following code cell will create a class object `Course` and print some information about it.\n",
    "\n",
    "*Note: If you change the content of this class definition, you will need to re-execute the code cell for it to have any effect. Any instance objects of the old class object will not be automatically updated, so you may need to rerun instantiations of this class object as well.*"
   ]
  },
  {
   "cell_type": "code",
   "execution_count": 12,
   "metadata": {},
   "outputs": [
    {
     "name": "stdout",
     "output_type": "stream",
     "text": [
      "<class '__main__.Course'>\n",
      "[<class '__main__.Course'>, <class 'object'>]\n",
      "<function Course.__init__ at 0x0000000005CA9BF8>\n"
     ]
    }
   ],
   "source": [
    "class Course:\n",
    "    def __init__(self, department, code, title):\n",
    "        self.department = department\n",
    "        self.code = code\n",
    "        self.title = title\n",
    "        \n",
    "print(Course)\n",
    "print(Course.mro())\n",
    "print(Course.__init__)"
   ]
  },
  {
   "cell_type": "markdown",
   "metadata": {},
   "source": [
    "We create an instance of the class by instantiating the class object, supplying some arguments.\n",
    "\n",
    "```Python\n",
    "python = Course(\"CS\", \"41\", \"the python programming language\")\n",
    "```\n",
    "\n",
    "#### Print out the three attributes of the `python` instance object. "
   ]
  },
  {
   "cell_type": "code",
   "execution_count": 13,
   "metadata": {},
   "outputs": [
    {
     "name": "stdout",
     "output_type": "stream",
     "text": [
      "CS\n",
      "41\n",
      "the python programming language\n"
     ]
    }
   ],
   "source": [
    "python = Course(\"CS\", \"41\", \"the python programming language\")\n",
    "\n",
    "print(python.department)  # Print out the department of python\n",
    "print(python.code)  # Print out the code of python\n",
    "print(python.title)  # Print out the title of python"
   ]
  },
  {
   "cell_type": "markdown",
   "metadata": {},
   "source": [
    "### Inheritance\n",
    "\n",
    "Let's explore inheritance by creating a `CSCourse` class that takes an additional parameter `recorded` that defaults to `False`."
   ]
  },
  {
   "cell_type": "code",
   "execution_count": 14,
   "metadata": {},
   "outputs": [],
   "source": [
    "class CSCourse(Course):\n",
    "    def __init__(self, department, code, title, recorded=False):\n",
    "        super().__init__(department, code, title)\n",
    "        self.is_recorded = recorded"
   ]
  },
  {
   "cell_type": "markdown",
   "metadata": {},
   "source": [
    "We haven't seen the `super()` call yet, and it's mostly just magic, but it concretely lets us treat the `self` object as an instance object of the immediate superclass (as measured by MRO), so we can call the superclass's `__init__` method.\n",
    "\n",
    "We can instantiate our new class:\n",
    "\n",
    "```Python\n",
    "a = Course(\"CS\", \"106A\", \"Programming Methodology\")\n",
    "b = CSCourse(\"CS\", \"106B\", \"Programming Abstractions\")\n",
    "x = CSCourse(\"CS\", \"106X\", \"Programming Abstractions\", recorded=True)\n",
    "print(a.code)  # => \"106A\"\n",
    "print(b.code)  # => \"106B\"\n",
    "```\n",
    "\n",
    "Read through the following statements and try to predict their output.\n",
    "\n",
    "```Python\n",
    "type(a)\n",
    "isinstance(a, Course)\n",
    "isinstance(b, Course)\n",
    "isinstance(x, Course)\n",
    "isinstance(x, CSCourse)\n",
    "issubclass(x, CSCourse)\n",
    "issubclass(Course, CSCourse)\n",
    "type(a) == type(b)\n",
    "type(b) == type(x)\n",
    "a == b\n",
    "b == x\n",
    "```"
   ]
  },
  {
   "cell_type": "code",
   "execution_count": null,
   "metadata": {},
   "outputs": [],
   "source": [
    "a = Course(\"CS\", \"106A\", \"Programming Methodology\")\n",
    "b = CSCourse(\"CS\", \"106B\", \"Programming Abstractions\")\n",
    "x = CSCourse(\"CS\", \"106X\", \"Programming Abstractions\", recorded=True)\n",
    "\n",
    "print(type(a))\n",
    "print(isinstance(a, Course))\n",
    "print(isinstance(b, Course))\n",
    "print(isinstance(x, Course))\n",
    "print(isinstance(x, CSCourse))\n",
    "print(issubclass(Course, CSCourse))\n",
    "print(type(a) == type(b))\n",
    "print(type(b) == type(x))\n",
    "print(a == b)\n",
    "print(b == x)"
   ]
  },
  {
   "cell_type": "markdown",
   "metadata": {},
   "source": [
    "### Additional Attributes (10 points)\n",
    "\n",
    "Let's add more functionality to the `Course` class!\n",
    "\n",
    "* Add a attribute `students` to the instances of the `Course` class that tracks whether students are present. Initially, students should be an empty set.\n",
    "* Create a method `mark_attendance(*students)` that takes a variadic number of `students` and marks them as present.\n",
    "* Create a method `is_present(student)` that takes a student’s name as a parameter and returns `True` if the student is present and `False` otherwise."
   ]
  },
  {
   "cell_type": "code",
   "execution_count": 6,
   "metadata": {},
   "outputs": [
    {
     "name": "stdout",
     "output_type": "stream",
     "text": [
      "True\n",
      "False\n"
     ]
    }
   ],
   "source": [
    "class Course:\n",
    "    def __init__(self, department, code, title):\n",
    "        self.department = department\n",
    "        self.code = code\n",
    "        self.title = title\n",
    "        self.students = []\n",
    "    def mark_attendance(self, *students):\n",
    "        self.students.extend(list(students))\n",
    "    \n",
    "    def is_present(self, student):\n",
    "        return student in self.students\n",
    "\n",
    "    \n",
    "python = Course(\"CS\", \"41\", \"the python programming language\")\n",
    "python.mark_attendance(\"Bob\", \"John\", \"Kevin\", \"Mason\")\n",
    "python.mark_attendance(\"Alice\", \"Kristen\")\n",
    "print(python.is_present(\"Kristen\")) # => True\n",
    "print(python.is_present(\"Brad\")) # => False"
   ]
  },
  {
   "cell_type": "markdown",
   "metadata": {},
   "source": [
    "### Implementing Prerequisites (10 points)\n",
    "\n",
    "Now, we'll focus on `CSCourse`. We want to implement functionality to determine if one computer science course is a prerequisite of another. In our implementation, we will assume that the ordering for courses is determined first by the numeric part of the course code: for example, `140` comes before `255`. If there is a tie, the ordering is determined by the default string ordering of the letters that follow. For example, `106A < 106B`. After implementing, you should be able to see:\n",
    "\n",
    "```Python\n",
    ">>> cs106a = CSCourse(\"CS\", \"106A\", \"Programming Methodology\")\n",
    ">>> cs106b = CSCourse(\"CS\", \"106B\", \"Programming Abstractions\")\n",
    ">>> cs107 = CSCourse(\"CS\", \"107\", \"Computer Organzation and Systems\")\n",
    ">>> cs110 = CSCourse(\"CS\", \"110\", \"Principles of Computer Systems\")\n",
    ">>> cs110 > cs106b\n",
    "True\n",
    ">>> cs107 > cs110\n",
    "False\n",
    "```\n",
    "\n",
    "To accomplish this, you will need to implement a magic method `__le__` that will add functionality to determine if a course is a prerequisite for another course. Read up on [total ordering](https://docs.python.org/3/library/functools.html#functools.total_ordering) to figure out what `__le__` should return based on the argument you pass in.\n",
    "\n",
    "To give a few hints on how to add this piece of functionality might be implemented, consider how you might extract the actual `int` number from the course code attribute.\n",
    "\n",
    "Additionally, you should implement a `__eq__` on `Course`s. Two classes are equivalent if they are in the same department and have the same course code: the course title doesn't matter here."
   ]
  },
  {
   "cell_type": "code",
   "execution_count": 82,
   "metadata": {},
   "outputs": [],
   "source": [
    "class Course:\n",
    "    def __init__(self, department, code, title):\n",
    "        self.department = department\n",
    "        self.code = code\n",
    "        self.title = title\n",
    "    \n",
    "    def __le__(self, other):\n",
    "        return self.code <= other.code\n",
    "    \n",
    "    def __eq__(self, other):\n",
    "        return self.code == other.code"
   ]
  },
  {
   "cell_type": "markdown",
   "metadata": {},
   "source": [
    "#### Sorting\n",
    "\n",
    "Now that we've written a `__le__` method and an `__eq__` method, we've implemented everything we need to speak about an \"ordering\" of `Course`s. Using the [`functools.total_ordering` decorator](https://docs.python.org/3/library/functools.html#functools.total_ordering), decorate the class so that all of the comparison methods are implemented. You should be able to run"
   ]
  },
  {
   "cell_type": "code",
   "execution_count": 83,
   "metadata": {},
   "outputs": [
    {
     "name": "stdout",
     "output_type": "stream",
     "text": [
      "['106A', '106B', '107', '110']\n"
     ]
    }
   ],
   "source": [
    "import functools\n",
    "@functools.total_ordering\n",
    "class CSCourse(Course):\n",
    "    def __init__(self, department, code, title, recorded=False):\n",
    "        super().__init__(department, code, title)\n",
    "        self.is_recorded = recorded\n",
    "\n",
    "# Let's make CS106A a CS course\n",
    "cs106a = CSCourse(\"CS\", \"106A\", \"Programming Methodology\")\n",
    "cs106b = CSCourse(\"CS\", \"106B\", \"Programming Abstractions\")\n",
    "cs107 = CSCourse(\"CS\", \"107\", \"Computer Organzation and Systems\")\n",
    "cs110 = CSCourse(\"CS\", \"110\", \"Principles of Computer Systems\")\n",
    "\n",
    "courses = [cs110, cs106a, cs107, cs106b]\n",
    "courses.sort()\n",
    "print([c.code for c in courses]) # => ['106A', '106B', '107', '110']"
   ]
  },
  {
   "cell_type": "markdown",
   "metadata": {},
   "source": [
    "## Inheritance"
   ]
  },
  {
   "cell_type": "markdown",
   "metadata": {},
   "source": [
    "Consider the following code:\n",
    "\n",
    "```Python\n",
    "\"\"\"Examples of Single Inheritance\"\"\"\n",
    "class Transportation:\n",
    "    wheels = 0\n",
    "\n",
    "    def __init__(self):\n",
    "        self.wheels = -1\n",
    "\n",
    "    def travel_one(self):\n",
    "        print(\"Travelling on generic transportation\")\n",
    "\n",
    "    def travel(self, distance):\n",
    "        for _ in range(distance):\n",
    "            self.travel_one()\n",
    "\n",
    "    def is_auto(self):\n",
    "        return self.wheels == 4\n",
    "\n",
    "class Bike(Transportation):\n",
    "\n",
    "    def travel_one(self):\n",
    "        print(\"Biking one mile\")\n",
    "\n",
    "class Car(Transportation):\n",
    "    wheels = 4\n",
    "\n",
    "    def travel_one(self):\n",
    "        print(\"Driving one mile\")\n",
    "\n",
    "    def make_sound(self):\n",
    "        print(\"VROOM\")\n",
    "\n",
    "class Ferrari(Car):\n",
    "    pass\n",
    "\n",
    "t = Transportation()\n",
    "b = Bike()\n",
    "c = Car()\n",
    "f = Ferrari()\n",
    "```\n",
    "\n",
    "Predict the outcome of each of the following lines of code.\n",
    "\n",
    "```Python\n",
    "isinstance(t, Transportation)\n",
    "\n",
    "isinstance(b, Bike)\n",
    "isinstance(b, Transportation)\n",
    "isinstance(b, Car)\n",
    "isinstance(b, t)\n",
    "\n",
    "isinstance(c, Car)\n",
    "isinstance(c, Transportation)\n",
    "\n",
    "isinstance(f, Ferrari)\n",
    "isinstance(f, Car)\n",
    "isinstance(f, Transportation)\n",
    "\n",
    "issubclass(Bike, Transportation)\n",
    "issubclass(Car, Transportation)\n",
    "issubclass(Ferrari, Car)\n",
    "issubclass(Ferrari, Transportation)\n",
    "issubclass(Transportation, Transportation)\n",
    "\n",
    "b.travel(5)\n",
    "c.is_auto()\n",
    "f.is_auto()\n",
    "b.is_auto()\n",
    "b.make_sound()\n",
    "c.travel(10)\n",
    "f.travel(4)\n",
    "```"
   ]
  },
  {
   "cell_type": "code",
   "execution_count": 40,
   "metadata": {},
   "outputs": [],
   "source": [
    "class Transportation:\n",
    "    wheels = 0\n",
    "\n",
    "    def __init__(self):\n",
    "        self.wheels = -1\n",
    "\n",
    "    def travel_one(self):\n",
    "        print(\"Travelling on generic transportation\")\n",
    "\n",
    "    def travel(self, distance):\n",
    "        for _ in range(distance):\n",
    "            self.travel_one()\n",
    "\n",
    "    def is_auto(self):\n",
    "        return self.wheels == 4\n",
    "\n",
    "class Bike(Transportation):\n",
    "\n",
    "    def travel_one(self):\n",
    "        print(\"Biking one mile\")\n",
    "\n",
    "class Car(Transportation):\n",
    "    wheels = 4\n",
    "\n",
    "    def travel_one(self):\n",
    "        print(\"Driving one mile\")\n",
    "\n",
    "    def make_sound(self):\n",
    "        print(\"VROOM\")\n",
    "\n",
    "class Ferrari(Car):\n",
    "    pass\n",
    "\n",
    "t = Transportation()\n",
    "b = Bike()\n",
    "c = Car()\n",
    "f = Ferrari()"
   ]
  },
  {
   "cell_type": "code",
   "execution_count": 41,
   "metadata": {},
   "outputs": [
    {
     "name": "stdout",
     "output_type": "stream",
     "text": [
      "True\n",
      "----------------\n",
      "True\n",
      "True\n",
      "False\n",
      "False\n",
      "----------------\n",
      "True\n",
      "True\n",
      "----------------\n",
      "True\n",
      "True\n",
      "True\n",
      "----------------\n",
      "True\n",
      "True\n",
      "True\n",
      "True\n",
      "True\n",
      "----------------\n",
      "Biking one mile\n",
      "Biking one mile\n",
      "Biking one mile\n",
      "Biking one mile\n",
      "Biking one mile\n",
      "False\n",
      "False\n",
      "False\n",
      "----------------\n",
      "Driving one mile\n",
      "Driving one mile\n",
      "Driving one mile\n",
      "Driving one mile\n",
      "Driving one mile\n",
      "Driving one mile\n",
      "Driving one mile\n",
      "Driving one mile\n",
      "Driving one mile\n",
      "Driving one mile\n",
      "Driving one mile\n",
      "Driving one mile\n",
      "Driving one mile\n",
      "Driving one mile\n"
     ]
    }
   ],
   "source": [
    "print(isinstance(t, Transportation))\n",
    "print('----------------')\n",
    "\n",
    "print(isinstance(b, Bike))\n",
    "print(isinstance(b, Transportation))\n",
    "print(isinstance(b, Car))\n",
    "print(isinstance(b, type(Car)))\n",
    "print('----------------')\n",
    "\n",
    "print(isinstance(c, Car))\n",
    "print(isinstance(c, Transportation))\n",
    "print('----------------')\n",
    "\n",
    "print(isinstance(f, Ferrari))\n",
    "print(isinstance(f, Car))\n",
    "print(isinstance(f, Transportation))\n",
    "print('----------------')\n",
    "\n",
    "print(issubclass(Bike, Transportation))\n",
    "print(issubclass(Car, Transportation))\n",
    "print(issubclass(Ferrari, Car))\n",
    "print(issubclass(Ferrari, Transportation))\n",
    "print(issubclass(Transportation, Transportation))\n",
    "print('----------------')\n",
    "\n",
    "b.travel(5)\n",
    "print(c.is_auto())\n",
    "print(f.is_auto())\n",
    "print(b.is_auto())\n",
    "# b.make_sound()\n",
    "print('----------------')\n",
    "\n",
    "c.travel(10)\n",
    "f.travel(4)"
   ]
  },
  {
   "cell_type": "markdown",
   "metadata": {},
   "source": [
    "## Magic Methods"
   ]
  },
  {
   "cell_type": "markdown",
   "metadata": {},
   "source": [
    "### Reading\n",
    "\n",
    "Python provides an enormous number of special methods that a class can override to interoperator with builtin Python operations. You can skim through an [approximate visual list](http://diveintopython3.problemsolving.io/special-method-names.html) from Dive into Python3, or a [more verbose explanation](https://rszalski.github.io/magicmethods/), or the [complete Python documentation](https://docs.python.org/3/reference/datamodel.html#specialnames) on special methods. Fair warning, there are a lot of them, so it's probably better to skim than to really take a deep dive, unless you're loving this stuff."
   ]
  },
  {
   "cell_type": "markdown",
   "metadata": {},
   "source": [
    "### Writing (Polynomial Class) (20 points)\n",
    "\n",
    "We will write a `Polynomial` class that acts like a number. As a a reminder, a [polynomial](https://en.wikipedia.org/wiki/Polynomial) is a mathematical object that looks like $1 + x + x^2$ or $4 - 10x + x^3$ or $-4 - 2x^{10}$. A mathematical polynomial can be evaluated at a given value of $x$. For example, if $f(x) = 1 + x + x^2$, then $f(5) = 1 + 5 + 5^2 = 1 + 5 + 25 = 31$.\n",
    "\n",
    "Polynomials are also added componentwise: If $f(x) = 1 + 4x + 4x^3 + 2x^4$ and $g(x) = 2 + 3x^2 + 5x^3$, then $(f + g)(x) = (1 + 2) + 4x + 3x^2 + (4 + 5)x^3 + 2x^4 = 3 + 4x + 3x^2 + 9x^3 + 2x^4$.\n",
    "\n",
    "Construct a polynomial with a variadic list of coefficients: the zeroth argument is the coordinate of the $x^0$'s place, the first argument is the coordinate of the $x^1$'s place, and so on. For example, `f = Polynomial(1, 3, 5)` should construct a `Polynomial` representing $1 + 3x + 5x^2$.\n",
    "\n",
    "You will need to override the addition special method (`__add__`) and the callable special method (`__call__`).\n",
    "\n",
    "You should be able to emulate the following code:\n",
    "\n",
    "```Python\n",
    "f = Polynomial(1, 5, 10)\n",
    "g = Polynomial(1, 3, 5)\n",
    "\n",
    "print(f(5))  # => Invokes `f.__call__(5)`\n",
    "print(g(2))  # => Invokes `g.__call__(2)`\n",
    "\n",
    "h = f + g    # => Invokes `f.__add__(g)`\n",
    "print(h(3))  # => Invokes `h.__call__(3)`\n",
    "```\n",
    "\n",
    "Lastly, implement a method to convert a `Polynomial` to an informal string representation. For example, the polynomial `Polynomial(1, 3, 5)` should be represented by the string `\"1 * x^0 + 3 * x^1 + 5 * x^2\"`."
   ]
  },
  {
   "cell_type": "code",
   "execution_count": 87,
   "metadata": {},
   "outputs": [
    {
     "name": "stdout",
     "output_type": "stream",
     "text": [
      "276\n",
      "35\n",
      "188\n",
      "2 * x^0 + 8 * x^1 + 15 * x^2 + 1 * x^3\n"
     ]
    }
   ],
   "source": [
    "from itertools import *\n",
    "class Polynomial:\n",
    "    def __init__(self ,*args):\n",
    "        self.ls = list(args)\n",
    "        pass\n",
    "    \n",
    "    def __call__(self, x):\n",
    "        count = 0\n",
    "        sum = 0\n",
    "        for i in self.ls:\n",
    "            sum += x ** count * i\n",
    "            count += 1\n",
    "        return sum\n",
    "            \n",
    "            \n",
    "        \"\"\"Implement `self(x)`.\"\"\"\n",
    "    \n",
    "    def __add__(self, other):\n",
    "        tmp = Polynomial()\n",
    "        tmp.ls = [x + y for x, y in zip_longest(self.ls,other.ls,fillvalue=0)]\n",
    "        return tmp\n",
    "        \"\"\"Implement `self + other`.\"\"\"\n",
    "    \n",
    "    def __str__(self):\n",
    "        str1=''\n",
    "        for i ,y in zip(self.ls,range(len(self.ls))):\n",
    "            if y:\n",
    "                str1 += ' + '\n",
    "            str1 = str1 + str(i) + \" * x^\" + str(y)\n",
    "        return str1\n",
    "        \"\"\"Implement `str(x)`.\"\"\"\n",
    "    \n",
    "\n",
    "f = Polynomial(1, 5, 10)\n",
    "g = Polynomial(1, 3, 5, 1)\n",
    "\n",
    "print(f(5))  # => Invokes `f.__call__(5)`, output 276\n",
    "print(g(2))  # => Invokes `g.__call__(2)`, output 35\n",
    "\n",
    "h = f + g    # => Invokes `f.__add__(g)`\n",
    "print(h(3))  # => Invokes `h.__call__(3)`, output 188\n",
    "\n",
    "print(h)     # => 2 * x^0 + 8 * x^1 + 15 * x^2 + 1 * x^3"
   ]
  },
  {
   "cell_type": "markdown",
   "metadata": {},
   "source": [
    "> With <3 by @sredmond"
   ]
  }
 ],
 "metadata": {
  "kernelspec": {
   "display_name": "Python 3",
   "language": "python",
   "name": "python3"
  },
  "language_info": {
   "codemirror_mode": {
    "name": "ipython",
    "version": 3
   },
   "file_extension": ".py",
   "mimetype": "text/x-python",
   "name": "python",
   "nbconvert_exporter": "python",
   "pygments_lexer": "ipython3",
   "version": "3.7.0"
  }
 },
 "nbformat": 4,
 "nbformat_minor": 2
}
