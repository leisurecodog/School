{
 "cells": [
  {
   "cell_type": "markdown",
   "metadata": {},
   "source": [
    "# Lab 7: Standard Library"
   ]
  },
  {
   "cell_type": "markdown",
   "metadata": {},
   "source": [
    "## Overview\n",
    "\n",
    "The goal of this lab is to become familiar with the tools provided by Python's standard library. We want you to gain practice with the most common utilities of the standard library and also to be aware of the rest of the tools in case you ever need them.\n",
    "\n",
    "**We expect that most of the time in this lab will be spent _reading_ documentation for the modules in the standard library that you find intriguing or applicable to your interests.** If you have any questions about any standard library features, please ask us!"
   ]
  },
  {
   "cell_type": "markdown",
   "metadata": {},
   "source": [
    "## Read\n",
    "\n",
    "We get it. At first, reading documentation doesn't sound like a fun way to spend an afternoon. However, this is one of a rare few times when you will have dedicated class time to take a deep dive into a library tool. Python's standard library is huge, and although your interests may not span the whole library, we're willing to bet that you can find something you enjoy in the library.\n",
    "\n",
    "Remember that you can follow along with the documentation's examples in the interactive interpreter - we recommend this approach, so that you're both reading about and practicing with the modules you like.\n",
    "\n",
    "Several of the documentation pages have links to the module's source code - if you're interested in seeing examples of well-crafted Python modules, there's no better place to look than the standard library!\n",
    "\n",
    "Above all, explore and ask questions! You should plan to spend **around the first half of lab time in this section**, reading about features of the standard library.\n",
    "\n",
    "If you don't know which modules to look at, we have a list of some of our favorite modules that *weren't* covered in lecture, based on common general interests. Ask us about what you'd like to learn more about, and we'll point you in the right general direction.\n",
    "\n",
    "The top-level categories of tools in the standard library are:\n",
    "\n",
    "- Built-in [Functions](https://docs.python.org/3/library/functions.html), [Constants](https://docs.python.org/3/library/constants.html), [Types](https://docs.python.org/3/library/stdtypes.html), and [Exceptions](https://docs.python.org/3/library/exceptions.html)\n",
    "- [Text Processing Services](https://docs.python.org/3/library/text.html)\n",
    "- [Binary Data Services](https://docs.python.org/3/library/binary.html)\n",
    "- [Data Types](https://docs.python.org/3/library/datatypes.html)\n",
    "- [Numeric and Mathematical Modules](https://docs.python.org/3/library/numeric.html)\n",
    "- [Functional Programming Modules](https://docs.python.org/3/library/functional.html)\n",
    "- [File and Directory Access](https://docs.python.org/3/library/filesys.html)\n",
    "- [Data Persistence](https://docs.python.org/3/library/persistence.html)\n",
    "- [Data Compression and Archiving](https://docs.python.org/3/library/archiving.html)\n",
    "- [File Formats](https://docs.python.org/3/library/fileformats.html)\n",
    "- [Cryptographic Services](https://docs.python.org/3/library/crypto.html)\n",
    "- [Generic Operating System Services](https://docs.python.org/3/library/allos.html)\n",
    "- [Concurrent Execution](https://docs.python.org/3/library/concurrency.html)\n",
    "- [Context Variables](https://docs.python.org/3/library/contextvars.html)\n",
    "- [Networking and Interprocess Communication](https://docs.python.org/3/library/ipc.html)\n",
    "- [Internet Data Handling](https://docs.python.org/3/library/netdata.html)\n",
    "- [Structured Markup Processing Tools](https://docs.python.org/3/library/markup.html)\n",
    "- [Internet Protocols and Support](https://docs.python.org/3/library/internet.html)\n",
    "- [Multimedia Services](https://docs.python.org/3/library/mm.html)\n",
    "- [Internationalization](https://docs.python.org/3/library/i18n.html)\n",
    "- [Program Frameworks](https://docs.python.org/3/library/frameworks.html)\n",
    "- [Graphical User Interfaces with Tk](https://docs.python.org/3/library/tk.html)\n",
    "- [Development Tools](https://docs.python.org/3/library/development.html)\n",
    "- [Debugging and Profiling](https://docs.python.org/3/library/debug.html)\n",
    "- [Software Packaging and Distribution](https://docs.python.org/3/library/distribution.html)\n",
    "- [Python Runtime Services](https://docs.python.org/3/library/python.html)\n",
    "- [Custom Python Interpreters](https://docs.python.org/3/library/custominterp.html)\n",
    "- [Importing Modules](https://docs.python.org/3/library/modules.html)\n",
    "- [Python Language Services](https://docs.python.org/3/library/language.html)"
   ]
  },
  {
   "cell_type": "markdown",
   "metadata": {},
   "source": [
    "### [Take Me To The Standard Library (Click Me!)](https://docs.python.org/3/library/)"
   ]
  },
  {
   "cell_type": "markdown",
   "metadata": {},
   "source": [
    "## Write\n",
    "\n",
    "In this section, you'll gain practice with some of the common modules in the Python standard library."
   ]
  },
  {
   "cell_type": "markdown",
   "metadata": {},
   "source": [
    "### Manipulating `collections`\n",
    "\n",
    "**Before continuing, read the [`collections` documentation](https://docs.python.org/3/library/collections.html) at least through the section on `namedtuple()`.**"
   ]
  },
  {
   "cell_type": "markdown",
   "metadata": {},
   "source": [
    "#### Working with `collections.namedtuple` (10 points)\n",
    "\n",
    "In this section, we modify code that prints out a message about each of a bunch of animals.\n",
    "\n",
    "Rewrite the following code to be more Pythonic by using `collections.namedtuple` to add readable attribute references. The attributes for these animals are `'name'`, `'species'`, `'color'`, and `'age'`."
   ]
  },
  {
   "cell_type": "code",
   "execution_count": 1,
   "metadata": {},
   "outputs": [
    {
     "name": "stdout",
     "output_type": "stream",
     "text": [
      "Lassie is an old black dog who is 12 years old.\n",
      "Buddy is a young red pupper who is 0.5 years old.\n",
      "Astro is an old grey doggo who is 15 years old.\n",
      "Mr. Peanutbutter is an old golden dog who is 35 years old.\n",
      "BoJack Horseman is a 52-year-old non-canine brown horse.\n",
      "Princess Carolyn is a 34-year-old non-canine pink cat.\n",
      "Mr. Tinkles is a 7-year-old non-canine white cat.\n",
      "Bella is a young brown pupper who is 0.5 years old.\n",
      "Max is a young brown doggo who is 5 years old.\n",
      "The Cat in the Hat is a 27-year-old non-canine stripey cat.\n",
      "Pluto (Disney) is a young orange dog who is 3 years old.\n",
      "Pluto (space) is a 4500000000-year-old non-canine brownish planet.\n",
      "Yertle is a 130-year-old non-canine green turtle.\n",
      "Horton is a 79-year-old non-canine blue elephant.\n"
     ]
    }
   ],
   "source": [
    "lassie = ('Lassie', 'dog', 'black', 12)\n",
    "buddy = ('Buddy', 'pupper', 'red', 0.5)  # Woof! Follow me on insta @buddypelu\n",
    "astro = ('Astro', 'doggo', 'grey', 15)\n",
    "mrpb = ('Mr. Peanutbutter', 'dog', 'golden', 35)\n",
    "bojack = ('BoJack Horseman', 'horse', 'brown', 52)\n",
    "pc = ('Princess Carolyn', 'cat', 'pink', 34)\n",
    "tinkles = ('Mr. Tinkles', 'cat', 'white', 7)\n",
    "pupper = ('Bella', 'pupper', 'brown', 0.5)\n",
    "doggo = ('Max', 'doggo', 'brown', 5)\n",
    "seuss = ('The Cat in the Hat', 'cat', 'stripey', 27)\n",
    "pluto = ('Pluto (Disney)', 'dog', 'orange', 3)\n",
    "plu2o = ('Pluto (space)', 'planet', 'brownish', 4500000000)\n",
    "yertle = ('Yertle', 'turtle', 'green', 130)\n",
    "horton = ('Horton', 'elephant', 'blue', 79)\n",
    "for animal in [lassie, buddy, astro, mrpb, bojack, pc, tinkles, pupper, doggo, seuss, pluto, plu2o, yertle, horton]:\n",
    "    if animal[1] == 'dog' or animal[1] == 'doggo' or animal[1] == 'pupper':\n",
    "        if animal[3] > 5:\n",
    "            print(animal[0] + ' is an old ' + animal[2] + ' ' + animal[1] + ' who is ' + str(animal[3]) + ' years old.')\n",
    "        else:\n",
    "            print(animal[0] + ' is a young ' + animal[2] + ' ' + animal[1] + ' who is ' + str(animal[3]) + ' years old.')\n",
    "    else:\n",
    "        print(animal[0] + ' is a ' + str(animal[3]) + '-year-old non-canine ' + animal[2] + ' ' + animal[1] + '.')\n",
    "        \n",
    "# Prints out:\n",
    "# Lassie is an old black dog who is 12 years old.\n",
    "# Buddy is a young red pupper who is 0.5 years old.\n",
    "# Astro is an old grey doggo who is 15 years old.\n",
    "# Mr. Peanutbutter is an old golden dog who is 35 years old.\n",
    "# BoJack Horseman is a 52-year-old non-canine brown horse.\n",
    "# Princess Carolyn is a 34-year-old non-canine pink cat.\n",
    "# Mr. Tinkles is a 7-year-old non-canine white cat.\n",
    "# Bella is a young brown pupper who is 0.5 years old.\n",
    "# Max is a young brown doggo who is 5 years old.\n",
    "# The Cat in the Hat is a 27-year-old non-canine stripey cat.\n",
    "# Pluto (Disney) is a young orange dog who is 3 years old.\n",
    "# Pluto (space) is a 4500000000-year-old non-canine brownish planet.\n",
    "# Yertle is a 130-year-old non-canine green turtle.\n",
    "# Horton is a 79-year-old non-canine blue elephant."
   ]
  },
  {
   "cell_type": "code",
   "execution_count": 2,
   "metadata": {},
   "outputs": [
    {
     "name": "stdout",
     "output_type": "stream",
     "text": [
      "Lassie is an old black dog who is 12 years old.\n",
      "Buddy is a young red pupper who is 0.5 years old.\n",
      "Astro is an old grey doggo who is 15 years old.\n",
      "Mr. Peanutbutter is an old golden dog who is 35 years old.\n",
      "BoJack Horseman is a 52-year-old non-canine brown horse.\n",
      "Princess Carolyn is a 34-year-old non-canine pink cat.\n",
      "Mr. Tinkles is a 7-year-old non-canine white cat.\n",
      "Bella is a young brown pupper who is 0.5 years old.\n",
      "Max is a young brown doggo who is 5 years old.\n",
      "The Cat in the Hat is a 27-year-old non-canine stripey cat.\n",
      "Pluto (Disney) is a young orange dog who is 3 years old.\n",
      "Pluto (space) is a 4500000000-year-old non-canine brownish planet.\n",
      "Yertle is a 130-year-old non-canine green turtle.\n",
      "Horton is a 79-year-old non-canine blue elephant.\n"
     ]
    }
   ],
   "source": [
    "# Rewrite the above program to be more Pythonic!\n",
    "import collections\n",
    "from collections import namedtuple\n",
    "classify = namedtuple('cla',['name','ani','color','year'])\n",
    "lst = list(map(lambda x: classify(x[0],x[1],x[2],x[3]) ,[lassie, buddy, astro, \n",
    "                                                        mrpb, bojack, pc, tinkles, pupper,\n",
    "                                                        doggo, seuss, pluto,\n",
    "                                                        plu2o, yertle, horton]) )\n",
    "for animal in lst:\n",
    "    if animal.ani == 'dog' or animal.ani == 'doggo' or animal.ani == 'pupper':\n",
    "        if animal.year > 5:\n",
    "            print(animal.name + ' is an old ' + animal.color + ' ' + animal.ani + ' who is ' + str(animal.year) + ' years old.')\n",
    "        else:\n",
    "            print(animal.name + ' is a young ' + animal.color + ' ' + animal.ani + ' who is ' + str(animal.year) + ' years old.')\n",
    "    else:\n",
    "        print(animal[0] + ' is a ' + str(animal[3]) + '-year-old non-canine ' + animal[2] + ' ' + animal[1] + '.')\n",
    "pass  # Your implementation here"
   ]
  },
  {
   "cell_type": "markdown",
   "metadata": {},
   "source": [
    "#### Using `collections.defaultdict` and `collections.Counter` (10 points)\n",
    "\n",
    "Download the [word](https://drive.google.com/open?id=15TXj7aeFM2WAPBRajFseV2H-ChTWsFQj) and use it as a data source. What are the three most common word lengths in the English language? Remember to strip off trailing whitespace."
   ]
  },
  {
   "cell_type": "code",
   "execution_count": 3,
   "metadata": {},
   "outputs": [
    {
     "name": "stdout",
     "output_type": "stream",
     "text": [
      "[9, 10, 8]\n"
     ]
    }
   ],
   "source": [
    "# Change me to another file location if you've downloaded a copy of the word list.\n",
    "# Recall that this file has one word per line.\n",
    "from collections import defaultdict, Counter\n",
    "FILENAME = 'words'\n",
    "with open(FILENAME) as f:\n",
    "    print([x for x, y in Counter([len(x)-1 for x in f]).most_common(3)]) \n",
    "    \n",
    "# TODO(you): Print the three most common word lengths in the English language."
   ]
  },
  {
   "cell_type": "markdown",
   "metadata": {},
   "source": [
    "#### Working Together (20 points)\n",
    "\n",
    "Use tools from the `collections` module to implement an `Employee` database, which maintains organizational relationships among employees. Suppose that your data is provided in a tab-separated file:\n",
    "\n",
    "```\n",
    "employee_name    employee_manager    salary    department    title\n",
    "employee_name    employee_manager    salary    department    title\n",
    "...\n",
    "employee_name    employee_manager    salary    department    title\n",
    "```\n",
    "\n",
    "If you'd like sample data to work with, you can use the following\n",
    "```\n",
    "sredmond\tpoohbear\t0\tCS\tInstructor\n",
    "poohbear\tsahami\t500\tCS\tLecturer\n",
    "tigger\tpoohbear\t100\tCS\tTiger\n",
    "htiek\tsahami\t500\tCS\tLecturer\n",
    "sahami\tmtl\t5000\tCS\tProfessor\n",
    "guido\tguido\t50000\tPSF\tBDFL\n",
    "```\n",
    "Save the above text to a file, making sure that your text editor doesn't automatically replace all of tabs with spaces!\n",
    "\n",
    "After writing code to load this information from a file, implement the following functions.\n",
    "\n",
    "```Python\n",
    "def directly_reports_to(employee, manager):\n",
    "    \"\"\"Return whether or not employee directly reports to manager\"\"\"\n",
    "    pass\n",
    "\n",
    "def indirectly_reports_to(employee, manager):\n",
    "    \"\"\"Return whether or not employee indirectly reports to manager\"\"\"\n",
    "    pass\n",
    "    \n",
    "def in_department(dept):\n",
    "    \"\"\"Return a collection of all employees of a given department\"\"\"\n",
    "    pass\n",
    "    \n",
    "def cost_of(dept):\n",
    "    \"\"\"Return the sum total of salaries for all employees of a given department\"\"\"\"\n",
    "    pass\n",
    "```\n",
    "\n",
    "The primary portion of this section is parsing the file and storing the employees in a your choice of data structure keyed by some of the employees' information."
   ]
  },
  {
   "cell_type": "code",
   "execution_count": 4,
   "metadata": {},
   "outputs": [
    {
     "name": "stdout",
     "output_type": "stream",
     "text": [
      "True\n",
      "False\n",
      "True\n",
      "False\n",
      "sredmond, poohbear, tigger, htiek, sahami\n",
      "6100\n"
     ]
    }
   ],
   "source": [
    "import collections\n",
    "\n",
    "# Replace me with the name of a file containing employment data.\n",
    "FILENAME = 'replace-me.txt'\n",
    "d = collections.namedtuple('dept',['employee','manager', 'salary','depart','title'])\n",
    "f = open(FILENAME)\n",
    "lst = []\n",
    "for x in f:\n",
    "    l = x.split()\n",
    "    lst.append(d(l[0],l[1],l[2],l[3],[4]))\n",
    "# TODO(you): Read the data file and store the data in a data structure.\n",
    "\n",
    "\n",
    "def directly_reports_to(employee, manager):\n",
    "    \"\"\"Return whether or not employee directly reports to manager\"\"\"\n",
    "    for x in lst:\n",
    "         if x.employee == employee:\n",
    "                if x.manager == manager:\n",
    "                    return True\n",
    "    return False\n",
    "\n",
    "\n",
    "def indirectly_reports_to(employee, manager):\n",
    "    \"\"\"Return whether or not employee indirectly reports to manager\"\"\"\n",
    "    for x in lst:\n",
    "         if x.employee == employee:\n",
    "                for y in lst:\n",
    "                    if y.employee == x.manager:\n",
    "                        if y.manager == manager:\n",
    "                            return True\n",
    "    return False\n",
    "\n",
    "\n",
    "def in_department(dept):\n",
    "    \"\"\"Return a collection of all employees of a given department\"\"\"\n",
    "    return ', '.join([L[0] for L in lst if dept in L])\n",
    "\n",
    "\n",
    "def cost_of(dept):\n",
    "    \"\"\"Return the sum total of salaries for all employees of a given department\"\"\"\n",
    "    return sum([int(L[2]) for L in lst if dept in L])\n",
    "\n",
    "print(directly_reports_to('tigger', 'poohbear')) # => True\n",
    "print(directly_reports_to('tigger', 'sahami'))   # => False\n",
    "print(indirectly_reports_to('sredmond', 'sahami'))  # => True\n",
    "print(indirectly_reports_to('sredmond', 'tigger'))  # => False\n",
    "print(in_department('CS')) # => sredmond, poohbear, tigger, htiek, sahami\n",
    "print(cost_of('CS')) # => 6100\n"
   ]
  },
  {
   "cell_type": "markdown",
   "metadata": {},
   "source": [
    "### Extracting data with `re`\n",
    "\n",
    "If you're fairly new to regular expressions, we recommend you read through [the official Python HOWTO](https://docs.python.org/3/howto/regex.html) and walk through those examples first.\n",
    "\n",
    "Otherwise, **read through the official [`re` documentation](https://docs.python.org/3/library/re.html) through \"Match Objects\"** (although the next section provides some neat examples)."
   ]
  },
  {
   "cell_type": "markdown",
   "metadata": {},
   "source": [
    "#### Wordplay (10 points)\n",
    "\n",
    "Using the list of words in the [word](https://drive.google.com/open?id=15TXj7aeFM2WAPBRajFseV2H-ChTWsFQj), determine all words that have all five vowels in order. That is, words that contain an `'a'`, `'e'`, `'i'`, `'o'`, and `'u'` in order, with any number (including 0) of non-vowel word characters before the 'a', between the vowels, and after the 'u'.\n",
    "\n",
    "For example, your list should contain both `\"abstemious\"` and `\"facetious\"`. We found a total of 14 matches."
   ]
  },
  {
   "cell_type": "code",
   "execution_count": 1,
   "metadata": {},
   "outputs": [
    {
     "name": "stdout",
     "output_type": "stream",
     "text": [
      "16\n"
     ]
    }
   ],
   "source": [
    "import re\n",
    "\n",
    "# Change me to another file location if you've downloaded a copy of the word list.\n",
    "# Recall that this file has one word per line.\n",
    "FILENAME = 'words'\n",
    "with open(FILENAME) as f:\n",
    "    count = 0\n",
    "    pattern = re.compile(r'^[^aeiou]*a[^aeiou]*e[^aeiou]*i[^aeiou]*o[^aeiou]*u[^aeiou]*$')\n",
    "    for x in f:\n",
    "        if re.match(pattern,x):\n",
    "            count += 1\n",
    "    print(count)\n",
    "\n",
    "# TODO(you): Print out any words that have five vowels in order."
   ]
  },
  {
   "cell_type": "markdown",
   "metadata": {},
   "source": [
    "#### Regex Crossword Checker (10 points)\n",
    "\n",
    "Take a moment to play one round of [Regex Crossword](https://regexcrossword.com/) (a highly entertaining site, if you've got hours to spare).\n",
    "\n",
    "In the spirit of Regex Crossword, we will write a function that checks arbitrary regex crosswords. Your function should take in two lists, one representing horizontal clues and one representing vertical clues, as well as the potential solution to crossword in the form a list-of-lists in row-major order (i.e. the elements are lists representing rows of the crossword. You should return whether or not the potential solution is in fact valid.\n",
    "\n",
    "```Python\n",
    "def regex_crossword_check(horizontal_patterns, vertical_patterns, candidate):\n",
    "    pass  # Your implementation here\n",
    "```\n",
    "\n",
    "For example, the call corresponding to the first \"Beginner\" puzzle (it's called \"Beatles\") would look like:\n",
    "\n",
    "```Python\n",
    "horiz = [r'HE|LL|O+', r'[PLEASE]+']\n",
    "vert = [r'[^SPEAK]+', r'EP|IP|EF']\n",
    "candidate = [\n",
    "    ['H', 'E'],\n",
    "    ['L', 'P']\n",
    "]\n",
    "regex_crossword_check(horiz, vert, candidate)  # => True\n",
    "```\n",
    "\n",
    "and the call corresponding to the second \"Experiences\" puzzle (it's called \"Royal Dinner\") would look like:\n",
    "\n",
    "```Python\n",
    "horiz = [r'(Y|F)(.)\\2[DAF]\\1', r'(U|O|I)*T[FRO]+', r'[KANE]*[GIN]*']\n",
    "vert = [r'(FI|A)+', r'(YE|OT)K', r'(.)[IF]+', r'[NODE]+', r'(FY|F|RG)+']\n",
    "candidate = [\n",
    "    ['F', 'O', 'O', 'D', 'F'],\n",
    "    ['I', 'T', 'F', 'O', 'R'],\n",
    "    ['A', 'K', 'I', 'N', 'G']\n",
    "]\n",
    "regex_crossword_check(horiz, vert, candidate)  # => True\n",
    "```\n",
    "\n",
    "Some implementation notes:\n",
    "\n",
    "* You may want to use `re.fullmatch` instead of `re.match` or `re.search`. The former matches a pattern string against an entire string, whereas the latter methods check to see if any prefix string or any substring, respectively, match the pattern.\n",
    "* You can get the width and height of the crossword from the length of the vertical and horizontal clue lists, respectively.\n",
    "* Remember your friend, `zip`!"
   ]
  },
  {
   "cell_type": "code",
   "execution_count": 13,
   "metadata": {},
   "outputs": [
    {
     "name": "stdout",
     "output_type": "stream",
     "text": [
      "True\n",
      "True\n"
     ]
    }
   ],
   "source": [
    "import re\n",
    "import string\n",
    "\n",
    "\n",
    "def regex_crossword_check(horizontal_patterns, vertical_patterns, candidate):\n",
    "    for pat ,i in zip(horizontal_patterns,range(len(horizontal_patterns))):\n",
    "        if re.fullmatch(re.compile(pat),''.join(candidate[i])) == None:\n",
    "            return False\n",
    "        \n",
    "    for pat ,i in zip(vertical_patterns,range(len(vertical_patterns))):\n",
    "        if re.fullmatch(re.compile(pat),''.join([row[i] for row in candidate])) == None:\n",
    "            return False\n",
    "        \n",
    "    return True\n",
    "# Quick tests.\n",
    "horiz = [r'HE|LL|O+', r'[PLEASE]+']\n",
    "vert = [r'[^SPEAK]+', r'EP|IP|EF']\n",
    "candidate = [\n",
    "    ['H', 'E'],\n",
    "    ['L', 'P']\n",
    "]\n",
    "print(regex_crossword_check(horiz, vert, candidate))  # => True\n",
    "\n",
    "\n",
    "horiz = [r'(Y|F)(.)\\2[DAF]\\1', r'(U|O|I)*T[FRO]+', r'[KANE]*[GIN]*']\n",
    "vert = [r'(FI|A)+', r'(YE|OT)K', r'(.)[IF]+', r'[NODE]+', r'(FY|F|RG)+']\n",
    "candidate = [\n",
    "    ['F', 'O', 'O', 'D', 'F'],\n",
    "    ['I', 'T', 'F', 'O', 'R'],\n",
    "    ['A', 'K', 'I', 'N', 'G']\n",
    "]\n",
    "print(regex_crossword_check(horiz, vert, candidate))  # => True"
   ]
  },
  {
   "cell_type": "markdown",
   "metadata": {},
   "source": [
    "### Working with `itertools`\n",
    "\n",
    "**Before continuing, make sure you read all of the [`itertools` documentation](https://docs.python.org/3/library/itertools.html).**"
   ]
  },
  {
   "cell_type": "markdown",
   "metadata": {},
   "source": [
    "#### Tabulation (5 points)\n",
    "\n",
    "Write a `tabulate` function to generate a computation lookup table. `tabulate` should take in three arguments, a function, a start number (default 0), and a step size (default 1)\n",
    "\n",
    "```Python\n",
    "def tabulate(f, start=0, step=1):\n",
    "    pass\n",
    "```\n",
    "\n",
    "This function can be used as follows:\n",
    "\n",
    "```Python\n",
    "sqgen = tabulate(lambda x: x ** 2)\n",
    "next(sqgen)  # => 0 (which is equal to f(0))\n",
    "next(sqgen)  # => 1 (which is equal to f(1))\n",
    "next(sqgen)  # => 4 (which is equal to f(2))\n",
    "next(sqgen)  # => 9 (which is equal to f(3))\n",
    "```\n",
    "\n",
    "For reference, our implmentation is one line and 43 characters.\n",
    "\n",
    "Hint: take a look at the `itertools.count` function!"
   ]
  },
  {
   "cell_type": "code",
   "execution_count": 15,
   "metadata": {},
   "outputs": [
    {
     "name": "stdout",
     "output_type": "stream",
     "text": [
      "0\n",
      "1\n",
      "4\n",
      "9\n"
     ]
    }
   ],
   "source": [
    "import itertools\n",
    "\n",
    "\n",
    "def tabulate(f, start=0, step=1):\n",
    "    return map(f, itertools.count(start, step=step))\n",
    "\n",
    "\n",
    "sqgen = tabulate(lambda x: x ** 2)\n",
    "print(next(sqgen))  # => 0 (which is equal to f(0))\n",
    "print(next(sqgen))  # => 1 (which is equal to f(1))\n",
    "print(next(sqgen))  # => 4 (which is equal to f(2))\n",
    "print(next(sqgen))  # => 9 (which is equal to f(3))"
   ]
  },
  {
   "cell_type": "markdown",
   "metadata": {},
   "source": [
    "### Cute Modules"
   ]
  },
  {
   "cell_type": "markdown",
   "metadata": {},
   "source": [
    "#### `turtle` - Turtle graphics\n",
    "\n",
    "Run the following code. A graphical window should appear that shows your new turtle friend! What other interesting shapes can you make?"
   ]
  },
  {
   "cell_type": "code",
   "execution_count": null,
   "metadata": {},
   "outputs": [],
   "source": [
    "import turtle\n",
    "\n",
    "turtle.left(180)\n",
    "turtle.forward(200)\n",
    "turtle.left(180)\n",
    "\n",
    "turtle.color('red', 'yellow')\n",
    "turtle.begin_fill()\n",
    "\n",
    "for _ in range(36):\n",
    "    turtle.forward(400)\n",
    "    turtle.left(170)\n",
    "    if abs(turtle.pos()) < 1:\n",
    "        break\n",
    "\n",
    "turtle.end_fill()\n",
    "turtle.done()"
   ]
  },
  {
   "cell_type": "markdown",
   "metadata": {},
   "source": [
    "#### `unicodedata` - Unicode Database\n",
    "\n",
    "Think about your favorite emoji. Can you guess its official name?"
   ]
  },
  {
   "cell_type": "code",
   "execution_count": null,
   "metadata": {},
   "outputs": [],
   "source": [
    "import unicodedata\n",
    "\n",
    "print(unicodedata.lookup('SLICE OF PIZZA'))  # => '🍕'\n",
    "\n",
    "print(unicodedata.name('👌'))  # => 'OK HAND SIGN'"
   ]
  },
  {
   "cell_type": "markdown",
   "metadata": {},
   "source": [
    "#### `this` and `antigravity`\n",
    "\n",
    "Just run the following lines of code."
   ]
  },
  {
   "cell_type": "code",
   "execution_count": null,
   "metadata": {},
   "outputs": [],
   "source": [
    "import this"
   ]
  },
  {
   "cell_type": "code",
   "execution_count": null,
   "metadata": {},
   "outputs": [],
   "source": [
    "import antigravity"
   ]
  },
  {
   "cell_type": "markdown",
   "metadata": {},
   "source": [
    "> With <3 by @sredmond"
   ]
  }
 ],
 "metadata": {
  "kernelspec": {
   "display_name": "Python 3",
   "language": "python",
   "name": "python3"
  },
  "language_info": {
   "codemirror_mode": {
    "name": "ipython",
    "version": 3
   },
   "file_extension": ".py",
   "mimetype": "text/x-python",
   "name": "python",
   "nbconvert_exporter": "python",
   "pygments_lexer": "ipython3",
   "version": "3.7.0"
  }
 },
 "nbformat": 4,
 "nbformat_minor": 2
}
